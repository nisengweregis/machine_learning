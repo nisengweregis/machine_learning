{
 "cells": [
  {
   "cell_type": "code",
   "execution_count": 1,
   "metadata": {},
   "outputs": [],
   "source": [
    "import pandas as pd\n",
    "import numpy as np"
   ]
  },
  {
   "cell_type": "markdown",
   "metadata": {},
   "source": [
    "### Data preparation"
   ]
  },
  {
   "cell_type": "code",
   "execution_count": 3,
   "metadata": {},
   "outputs": [
    {
     "data": {
      "text/html": [
       "<div>\n",
       "<style scoped>\n",
       "    .dataframe tbody tr th:only-of-type {\n",
       "        vertical-align: middle;\n",
       "    }\n",
       "\n",
       "    .dataframe tbody tr th {\n",
       "        vertical-align: top;\n",
       "    }\n",
       "\n",
       "    .dataframe thead th {\n",
       "        text-align: right;\n",
       "    }\n",
       "</style>\n",
       "<table border=\"1\" class=\"dataframe\">\n",
       "  <thead>\n",
       "    <tr style=\"text-align: right;\">\n",
       "      <th></th>\n",
       "      <th>age</th>\n",
       "      <th>occupation</th>\n",
       "      <th>marital_status</th>\n",
       "      <th>education_level</th>\n",
       "      <th>airtime_balance</th>\n",
       "      <th>physical_equity</th>\n",
       "      <th>call_duration</th>\n",
       "      <th>joined</th>\n",
       "    </tr>\n",
       "  </thead>\n",
       "  <tbody>\n",
       "    <tr>\n",
       "      <th>0</th>\n",
       "      <td>31.0</td>\n",
       "      <td>blue-collar</td>\n",
       "      <td>single</td>\n",
       "      <td>secondary</td>\n",
       "      <td>-8.06</td>\n",
       "      <td>yes</td>\n",
       "      <td>3</td>\n",
       "      <td>no</td>\n",
       "    </tr>\n",
       "    <tr>\n",
       "      <th>1</th>\n",
       "      <td>58.0</td>\n",
       "      <td>technician</td>\n",
       "      <td>single</td>\n",
       "      <td>secondary</td>\n",
       "      <td>86.00</td>\n",
       "      <td>yes</td>\n",
       "      <td>1</td>\n",
       "      <td>no</td>\n",
       "    </tr>\n",
       "    <tr>\n",
       "      <th>2</th>\n",
       "      <td>50.0</td>\n",
       "      <td>clerk</td>\n",
       "      <td>married</td>\n",
       "      <td>secondary</td>\n",
       "      <td>5.12</td>\n",
       "      <td>yes</td>\n",
       "      <td>1</td>\n",
       "      <td>no</td>\n",
       "    </tr>\n",
       "    <tr>\n",
       "      <th>3</th>\n",
       "      <td>59.0</td>\n",
       "      <td>retired</td>\n",
       "      <td>married</td>\n",
       "      <td>secondary</td>\n",
       "      <td>1.84</td>\n",
       "      <td>no</td>\n",
       "      <td>3</td>\n",
       "      <td>no</td>\n",
       "    </tr>\n",
       "    <tr>\n",
       "      <th>4</th>\n",
       "      <td>46.0</td>\n",
       "      <td>management</td>\n",
       "      <td>married</td>\n",
       "      <td>NaN</td>\n",
       "      <td>8.76</td>\n",
       "      <td>yes</td>\n",
       "      <td>0</td>\n",
       "      <td>no</td>\n",
       "    </tr>\n",
       "  </tbody>\n",
       "</table>\n",
       "</div>"
      ],
      "text/plain": [
       "    age   occupation marital_status education_level  airtime_balance  \\\n",
       "0  31.0  blue-collar         single       secondary            -8.06   \n",
       "1  58.0   technician         single       secondary            86.00   \n",
       "2  50.0        clerk        married       secondary             5.12   \n",
       "3  59.0      retired        married       secondary             1.84   \n",
       "4  46.0   management        married             NaN             8.76   \n",
       "\n",
       "  physical_equity  call_duration joined  \n",
       "0             yes              3     no  \n",
       "1             yes              1     no  \n",
       "2             yes              1     no  \n",
       "3              no              3     no  \n",
       "4             yes              0     no  "
      ]
     },
     "execution_count": 3,
     "metadata": {},
     "output_type": "execute_result"
    }
   ],
   "source": [
    "data = pd.read_csv(r'data.csv')\n",
    "data.head()\n",
    "#data.describe()"
   ]
  },
  {
   "cell_type": "markdown",
   "metadata": {},
   "source": [
    "### "
   ]
  },
  {
   "cell_type": "markdown",
   "metadata": {},
   "source": [
    "Recoding the variables"
   ]
  },
  {
   "cell_type": "code",
   "execution_count": 4,
   "metadata": {},
   "outputs": [
    {
     "data": {
      "text/html": [
       "<div>\n",
       "<style scoped>\n",
       "    .dataframe tbody tr th:only-of-type {\n",
       "        vertical-align: middle;\n",
       "    }\n",
       "\n",
       "    .dataframe tbody tr th {\n",
       "        vertical-align: top;\n",
       "    }\n",
       "\n",
       "    .dataframe thead th {\n",
       "        text-align: right;\n",
       "    }\n",
       "</style>\n",
       "<table border=\"1\" class=\"dataframe\">\n",
       "  <thead>\n",
       "    <tr style=\"text-align: right;\">\n",
       "      <th></th>\n",
       "      <th>age</th>\n",
       "      <th>occupation1</th>\n",
       "      <th>marital_status1</th>\n",
       "      <th>education_level1</th>\n",
       "      <th>airtime_balance</th>\n",
       "      <th>physical_equity1</th>\n",
       "      <th>call_duration</th>\n",
       "      <th>joined1</th>\n",
       "    </tr>\n",
       "  </thead>\n",
       "  <tbody>\n",
       "    <tr>\n",
       "      <th>0</th>\n",
       "      <td>31.0</td>\n",
       "      <td>6.0</td>\n",
       "      <td>1.0</td>\n",
       "      <td>2.0</td>\n",
       "      <td>-8.06</td>\n",
       "      <td>1</td>\n",
       "      <td>3</td>\n",
       "      <td>0</td>\n",
       "    </tr>\n",
       "    <tr>\n",
       "      <th>1</th>\n",
       "      <td>58.0</td>\n",
       "      <td>9.0</td>\n",
       "      <td>1.0</td>\n",
       "      <td>2.0</td>\n",
       "      <td>86.00</td>\n",
       "      <td>1</td>\n",
       "      <td>1</td>\n",
       "      <td>0</td>\n",
       "    </tr>\n",
       "  </tbody>\n",
       "</table>\n",
       "</div>"
      ],
      "text/plain": [
       "    age  occupation1  marital_status1  education_level1  airtime_balance  \\\n",
       "0  31.0          6.0              1.0               2.0            -8.06   \n",
       "1  58.0          9.0              1.0               2.0            86.00   \n",
       "\n",
       "   physical_equity1  call_duration  joined1  \n",
       "0                 1              3        0  \n",
       "1                 1              1        0  "
      ]
     },
     "execution_count": 4,
     "metadata": {},
     "output_type": "execute_result"
    }
   ],
   "source": [
    "#Occupation\n",
    "occupation_codes = [1,2,3,4,5,6,7,8,9,10]\n",
    "occupation_categories = [\"unemployed\", \"clerk\", \"management\", \"housemaid\", \"student\", \n",
    "                         \"blue-collar\", \"self-employed\", \"retired\", \"technician\", \"services\"]\n",
    "\n",
    "\n",
    "#Marital\n",
    "marital_codes = [1,2,3]\n",
    "marital_categories = [\"single\", \"married\", \"divorced\"]\n",
    "\n",
    "#Education\n",
    "education_codes = [1,2,3,4]\n",
    "education_categories = [\"primary\", \"secondary\", \"university\", \"unknown\"]\n",
    "\n",
    "#yes/no questions\n",
    "y_n_code = [0,1] \n",
    "y_n_name = [\"no\",\"yes\"]\n",
    "\n",
    "data['education_level1'] = data['education_level'].replace(education_categories, education_codes)\n",
    "data['occupation1'] = data['occupation'].replace(occupation_categories, occupation_codes)\n",
    "data['marital_status1'] = data['marital_status'].replace(marital_categories, marital_codes)\n",
    "data['physical_equity1'] = data['physical_equity'].replace(y_n_name, y_n_code)\n",
    "data['joined1'] = data['joined'].replace(y_n_name, y_n_code)\n",
    "\n",
    "#Create a dataframe to work with - test data\n",
    "data = data[['age','occupation1','marital_status1','education_level1','airtime_balance',\n",
    "               'physical_equity1','call_duration','joined1']]\n",
    "data.head(2)"
   ]
  },
  {
   "cell_type": "markdown",
   "metadata": {},
   "source": [
    "### "
   ]
  },
  {
   "cell_type": "markdown",
   "metadata": {},
   "source": [
    "Dealing with missing data"
   ]
  },
  {
   "cell_type": "code",
   "execution_count": 5,
   "metadata": {},
   "outputs": [
    {
     "data": {
      "text/plain": [
       "age                 0\n",
       "occupation1         0\n",
       "marital_status1     0\n",
       "education_level1    0\n",
       "airtime_balance     0\n",
       "physical_equity1    0\n",
       "call_duration       0\n",
       "joined1             0\n",
       "dtype: int64"
      ]
     },
     "execution_count": 5,
     "metadata": {},
     "output_type": "execute_result"
    }
   ],
   "source": [
    "#Dealing with missing data -- Using Imputation (Mean as a strategy)\n",
    "from sklearn.impute import SimpleImputer\n",
    "most_frequent = data.copy()\n",
    "#setting strategy to 'mean' to impute by the mean\n",
    "mean_imputer = SimpleImputer(strategy='mean')# strategy can also be mean or median \n",
    "most_frequent.iloc[:,:] = mean_imputer.fit_transform(most_frequent)\n",
    "data = most_frequent.iloc[:,:]\n",
    "data.isnull().sum()"
   ]
  },
  {
   "cell_type": "markdown",
   "metadata": {},
   "source": [
    "### Using the scikit-learn package"
   ]
  },
  {
   "cell_type": "code",
   "execution_count": 17,
   "metadata": {},
   "outputs": [
    {
     "name": "stdout",
     "output_type": "stream",
     "text": [
      "0.14533493589579993\n"
     ]
    }
   ],
   "source": [
    "import matplotlib.pyplot as plt\n",
    "from sklearn.metrics import mean_squared_error, r2_score\n",
    "from sklearn.model_selection import train_test_split\n",
    "\n",
    "#Splitting data\n",
    "X = data[['age','occupation1','marital_status1','education_level1','physical_equity1','airtime_balance','joined1']]\n",
    "y = data[['call_duration']]\n",
    "X_train, X_test, y_train, y_test = train_test_split(X, y, test_size=0.20, random_state=1) \n",
    "#Random state number can be any number. It is used to ensure that the subsets of data remain the same in case we need to use them again (e.g., when comparing different algorithms) \n",
    "\n",
    "#Running the linear regression\n",
    "from sklearn.linear_model import LinearRegression\n",
    "\n",
    "# Train the model using the training sets\n",
    "model = LinearRegression().fit(X_train, y_train) #Notice we only use the training data at this stage\n",
    "\n",
    "print(model.score(X_test, y_test))"
   ]
  },
  {
   "cell_type": "code",
   "execution_count": null,
   "metadata": {},
   "outputs": [],
   "source": []
  },
  {
   "cell_type": "markdown",
   "metadata": {},
   "source": [
    "### Using the statsmodel package "
   ]
  },
  {
   "cell_type": "code",
   "execution_count": 2,
   "metadata": {},
   "outputs": [],
   "source": [
    "import statsmodels.api as sm"
   ]
  },
  {
   "cell_type": "code",
   "execution_count": null,
   "metadata": {},
   "outputs": [],
   "source": []
  }
 ],
 "metadata": {
  "kernelspec": {
   "display_name": "Python 3",
   "language": "python",
   "name": "python3"
  },
  "language_info": {
   "codemirror_mode": {
    "name": "ipython",
    "version": 3
   },
   "file_extension": ".py",
   "mimetype": "text/x-python",
   "name": "python",
   "nbconvert_exporter": "python",
   "pygments_lexer": "ipython3",
   "version": "3.7.9"
  }
 },
 "nbformat": 4,
 "nbformat_minor": 4
}
