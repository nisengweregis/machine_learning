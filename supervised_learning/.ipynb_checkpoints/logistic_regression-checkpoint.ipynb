{
 "cells": [
  {
   "cell_type": "code",
   "execution_count": 2,
   "metadata": {},
   "outputs": [],
   "source": [
    "#Importing libraries\n",
    "import pandas as pd             #Dataframe\n",
    "import matplotlib.pyplot as plt #Visualization\n",
    "import seaborn as sns           # Visualization\n",
    "import numpy as np              #Numeric analysis\n",
    "import statsmodels.api as sm    #Logistic regression\n",
    "%matplotlib inline"
   ]
  },
  {
   "cell_type": "code",
   "execution_count": 3,
   "metadata": {},
   "outputs": [
    {
     "data": {
      "text/html": [
       "<div>\n",
       "<style scoped>\n",
       "    .dataframe tbody tr th:only-of-type {\n",
       "        vertical-align: middle;\n",
       "    }\n",
       "\n",
       "    .dataframe tbody tr th {\n",
       "        vertical-align: top;\n",
       "    }\n",
       "\n",
       "    .dataframe thead th {\n",
       "        text-align: right;\n",
       "    }\n",
       "</style>\n",
       "<table border=\"1\" class=\"dataframe\">\n",
       "  <thead>\n",
       "    <tr style=\"text-align: right;\">\n",
       "      <th></th>\n",
       "      <th>age</th>\n",
       "      <th>job</th>\n",
       "      <th>marital</th>\n",
       "      <th>education</th>\n",
       "      <th>default</th>\n",
       "      <th>balance</th>\n",
       "      <th>housing</th>\n",
       "      <th>loan</th>\n",
       "      <th>contact</th>\n",
       "      <th>day</th>\n",
       "      <th>month</th>\n",
       "      <th>duration</th>\n",
       "      <th>campaign</th>\n",
       "      <th>pdays</th>\n",
       "      <th>previous</th>\n",
       "      <th>poutcome</th>\n",
       "      <th>y</th>\n",
       "    </tr>\n",
       "  </thead>\n",
       "  <tbody>\n",
       "    <tr>\n",
       "      <th>0</th>\n",
       "      <td>30</td>\n",
       "      <td>unemployed</td>\n",
       "      <td>married</td>\n",
       "      <td>primary</td>\n",
       "      <td>no</td>\n",
       "      <td>1787</td>\n",
       "      <td>no</td>\n",
       "      <td>no</td>\n",
       "      <td>cellular</td>\n",
       "      <td>19</td>\n",
       "      <td>oct</td>\n",
       "      <td>79</td>\n",
       "      <td>1</td>\n",
       "      <td>-1</td>\n",
       "      <td>0</td>\n",
       "      <td>unknown</td>\n",
       "      <td>no</td>\n",
       "    </tr>\n",
       "    <tr>\n",
       "      <th>1</th>\n",
       "      <td>33</td>\n",
       "      <td>services</td>\n",
       "      <td>married</td>\n",
       "      <td>secondary</td>\n",
       "      <td>no</td>\n",
       "      <td>4789</td>\n",
       "      <td>yes</td>\n",
       "      <td>yes</td>\n",
       "      <td>cellular</td>\n",
       "      <td>11</td>\n",
       "      <td>may</td>\n",
       "      <td>220</td>\n",
       "      <td>1</td>\n",
       "      <td>339</td>\n",
       "      <td>4</td>\n",
       "      <td>failure</td>\n",
       "      <td>no</td>\n",
       "    </tr>\n",
       "  </tbody>\n",
       "</table>\n",
       "</div>"
      ],
      "text/plain": [
       "   age         job  marital  education default  balance housing loan  \\\n",
       "0   30  unemployed  married    primary      no     1787      no   no   \n",
       "1   33    services  married  secondary      no     4789     yes  yes   \n",
       "\n",
       "    contact  day month  duration  campaign  pdays  previous poutcome   y  \n",
       "0  cellular   19   oct        79         1     -1         0  unknown  no  \n",
       "1  cellular   11   may       220         1    339         4  failure  no  "
      ]
     },
     "execution_count": 3,
     "metadata": {},
     "output_type": "execute_result"
    }
   ],
   "source": [
    "data = pd.read_csv(\"bank.csv\", delimiter=\";\")\n",
    "data.head(2)"
   ]
  },
  {
   "cell_type": "code",
   "execution_count": 4,
   "metadata": {},
   "outputs": [
    {
     "data": {
      "text/html": [
       "<div>\n",
       "<style scoped>\n",
       "    .dataframe tbody tr th:only-of-type {\n",
       "        vertical-align: middle;\n",
       "    }\n",
       "\n",
       "    .dataframe tbody tr th {\n",
       "        vertical-align: top;\n",
       "    }\n",
       "\n",
       "    .dataframe thead th {\n",
       "        text-align: right;\n",
       "    }\n",
       "</style>\n",
       "<table border=\"1\" class=\"dataframe\">\n",
       "  <thead>\n",
       "    <tr style=\"text-align: right;\">\n",
       "      <th></th>\n",
       "      <th>age</th>\n",
       "      <th>balance</th>\n",
       "      <th>duration</th>\n",
       "      <th>y</th>\n",
       "    </tr>\n",
       "  </thead>\n",
       "  <tbody>\n",
       "    <tr>\n",
       "      <th>0</th>\n",
       "      <td>30</td>\n",
       "      <td>1787</td>\n",
       "      <td>79</td>\n",
       "      <td>no</td>\n",
       "    </tr>\n",
       "    <tr>\n",
       "      <th>1</th>\n",
       "      <td>33</td>\n",
       "      <td>4789</td>\n",
       "      <td>220</td>\n",
       "      <td>no</td>\n",
       "    </tr>\n",
       "  </tbody>\n",
       "</table>\n",
       "</div>"
      ],
      "text/plain": [
       "   age  balance  duration   y\n",
       "0   30     1787        79  no\n",
       "1   33     4789       220  no"
      ]
     },
     "execution_count": 4,
     "metadata": {},
     "output_type": "execute_result"
    }
   ],
   "source": [
    "#Splitting data into train and test data\n",
    "data = data[['age','balance','duration','y']]\n",
    "data.head(2)"
   ]
  },
  {
   "cell_type": "code",
   "execution_count": 5,
   "metadata": {},
   "outputs": [
    {
     "data": {
      "text/html": [
       "<div>\n",
       "<style scoped>\n",
       "    .dataframe tbody tr th:only-of-type {\n",
       "        vertical-align: middle;\n",
       "    }\n",
       "\n",
       "    .dataframe tbody tr th {\n",
       "        vertical-align: top;\n",
       "    }\n",
       "\n",
       "    .dataframe thead th {\n",
       "        text-align: right;\n",
       "    }\n",
       "</style>\n",
       "<table border=\"1\" class=\"dataframe\">\n",
       "  <thead>\n",
       "    <tr style=\"text-align: right;\">\n",
       "      <th></th>\n",
       "      <th>age</th>\n",
       "      <th>balance</th>\n",
       "      <th>duration</th>\n",
       "      <th>y</th>\n",
       "    </tr>\n",
       "  </thead>\n",
       "  <tbody>\n",
       "    <tr>\n",
       "      <th>0</th>\n",
       "      <td>30</td>\n",
       "      <td>1787</td>\n",
       "      <td>79</td>\n",
       "      <td>0</td>\n",
       "    </tr>\n",
       "    <tr>\n",
       "      <th>1</th>\n",
       "      <td>33</td>\n",
       "      <td>4789</td>\n",
       "      <td>220</td>\n",
       "      <td>0</td>\n",
       "    </tr>\n",
       "  </tbody>\n",
       "</table>\n",
       "</div>"
      ],
      "text/plain": [
       "   age  balance  duration  y\n",
       "0   30     1787        79  0\n",
       "1   33     4789       220  0"
      ]
     },
     "execution_count": 5,
     "metadata": {},
     "output_type": "execute_result"
    }
   ],
   "source": [
    "data[\"y1\"] = np.where(data[\"y\"].str.contains(\"yes\"), 1, 0)\n",
    "data = data.loc[:, data.columns!='y']\n",
    "data.head()\n",
    "data = data.rename(columns={'y1':'y'})\n",
    "data.head(2)"
   ]
  },
  {
   "cell_type": "code",
   "execution_count": 6,
   "metadata": {},
   "outputs": [
    {
     "data": {
      "application/javascript": [
       "\n",
       "        if (window._pyforest_update_imports_cell) { window._pyforest_update_imports_cell('from sklearn.model_selection import train_test_split'); }\n",
       "    "
      ],
      "text/plain": [
       "<IPython.core.display.Javascript object>"
      ]
     },
     "metadata": {},
     "output_type": "display_data"
    },
    {
     "data": {
      "text/html": [
       "<div>\n",
       "<style scoped>\n",
       "    .dataframe tbody tr th:only-of-type {\n",
       "        vertical-align: middle;\n",
       "    }\n",
       "\n",
       "    .dataframe tbody tr th {\n",
       "        vertical-align: top;\n",
       "    }\n",
       "\n",
       "    .dataframe thead th {\n",
       "        text-align: right;\n",
       "    }\n",
       "</style>\n",
       "<table border=\"1\" class=\"dataframe\">\n",
       "  <thead>\n",
       "    <tr style=\"text-align: right;\">\n",
       "      <th></th>\n",
       "      <th>age</th>\n",
       "      <th>balance</th>\n",
       "      <th>duration</th>\n",
       "      <th>y</th>\n",
       "    </tr>\n",
       "  </thead>\n",
       "  <tbody>\n",
       "    <tr>\n",
       "      <th>978</th>\n",
       "      <td>34</td>\n",
       "      <td>262</td>\n",
       "      <td>371</td>\n",
       "      <td>0</td>\n",
       "    </tr>\n",
       "    <tr>\n",
       "      <th>251</th>\n",
       "      <td>32</td>\n",
       "      <td>2349</td>\n",
       "      <td>134</td>\n",
       "      <td>0</td>\n",
       "    </tr>\n",
       "  </tbody>\n",
       "</table>\n",
       "</div>"
      ],
      "text/plain": [
       "     age  balance  duration  y\n",
       "978   34      262       371  0\n",
       "251   32     2349       134  0"
      ]
     },
     "execution_count": 6,
     "metadata": {},
     "output_type": "execute_result"
    }
   ],
   "source": [
    "#X_train, X_test, y_train, y_test = train_test_split(X, y, test_size=0.2, random_state=42)\n",
    "#Using the whole data set\n",
    "train, test = train_test_split(data, test_size=0.2, random_state=42)\n",
    "train.head(2)"
   ]
  },
  {
   "cell_type": "code",
   "execution_count": 7,
   "metadata": {},
   "outputs": [
    {
     "name": "stdout",
     "output_type": "stream",
     "text": [
      "Optimization terminated successfully.\n",
      "         Current function value: 0.341714\n",
      "         Iterations 6\n",
      "                           Logit Regression Results                           \n",
      "==============================================================================\n",
      "Dep. Variable:                      y   No. Observations:                 3616\n",
      "Model:                          Logit   Df Residuals:                     3613\n",
      "Method:                           MLE   Df Model:                            2\n",
      "Date:                Sat, 12 Feb 2022   Pseudo R-squ.:                 0.05307\n",
      "Time:                        21:40:38   Log-Likelihood:                -1235.6\n",
      "converged:                       True   LL-Null:                       -1304.9\n",
      "Covariance Type:            nonrobust   LLR p-value:                 8.430e-31\n",
      "==============================================================================\n",
      "                 coef    std err          z      P>|z|      [0.025      0.975]\n",
      "------------------------------------------------------------------------------\n",
      "age           -0.0714      0.002    -30.894      0.000      -0.076      -0.067\n",
      "balance     1.389e-05   1.99e-05      0.697      0.486   -2.52e-05    5.29e-05\n",
      "duration       0.0029      0.000     15.973      0.000       0.003       0.003\n",
      "==============================================================================\n"
     ]
    }
   ],
   "source": [
    "# Import models and utility functions\n",
    "import statsmodels.api as sm \n",
    "\n",
    "\n",
    "# get independent variables\n",
    "X = train[['age','balance','duration']]\n",
    "\n",
    "\n",
    "# get response variables\n",
    "Y = train[['y']]\n",
    "\n",
    "\n",
    "#model = sm.Logit(endog=Y, exog=X).fit()\n",
    "model = sm.Logit(Y, X).fit(method='newton')\n",
    "\n",
    "print(model.summary())"
   ]
  },
  {
   "cell_type": "code",
   "execution_count": 8,
   "metadata": {},
   "outputs": [
    {
     "data": {
      "text/plain": [
       "age         0.931055\n",
       "balance     1.000014\n",
       "duration    1.002891\n",
       "dtype: float64"
      ]
     },
     "execution_count": 8,
     "metadata": {},
     "output_type": "execute_result"
    }
   ],
   "source": [
    "# get odds ratio\n",
    "np.exp(model.params)"
   ]
  },
  {
   "cell_type": "code",
   "execution_count": 12,
   "metadata": {},
   "outputs": [
    {
     "data": {
      "text/plain": [
       "array([[792,  15],\n",
       "       [ 81,  17]], dtype=int64)"
      ]
     },
     "execution_count": 12,
     "metadata": {},
     "output_type": "execute_result"
    }
   ],
   "source": [
    "# get the predicted values for the test dataset [0, 1]\n",
    "pred = model.predict(exog=test[['age','balance','duration']])\n",
    "\n",
    "# get confusion matrix and accuracy of the prediction\n",
    "# note: there may be slightly different results if you use sklearn LogisticRegression method\n",
    "from sklearn.metrics import accuracy_score, confusion_matrix\n",
    "#confusion_matrix(y_true=list(test['y']), y_pred=list(round(pred)))\n",
    "cm = confusion_matrix(y_true=list(test['y']), y_pred=list(round(pred)))\n",
    "cm\n",
    "# sns.heatmap(cm, annot=True,fmt=\"d\",linewidths=.5, cmap=\"summer\")\n",
    "# plt.show()"
   ]
  },
  {
   "cell_type": "markdown",
   "metadata": {},
   "source": [
    "In the confusion matrix, diagonal numbers (807 and 0) indicate the correct predictions [true negatives (TN) and true positives (TP)] for the non-subscribed (0) and the subscribed (1) outcomes for test dataset. The other numbers (0 and 98) indicates incorrect predictions [false positives (FP) and false negatives (FN)]"
   ]
  },
  {
   "cell_type": "code",
   "execution_count": 11,
   "metadata": {},
   "outputs": [
    {
     "data": {
      "text/plain": [
       "0.8939226519337017"
      ]
     },
     "execution_count": 11,
     "metadata": {},
     "output_type": "execute_result"
    }
   ],
   "source": [
    "# fitted model accuracy\n",
    "accuracy_score(y_true=list(test['y']), y_pred=list(round(pred)))"
   ]
  },
  {
   "cell_type": "code",
   "execution_count": 12,
   "metadata": {},
   "outputs": [
    {
     "data": {
      "image/png": "[encoded data removed]",
      "text/plain": [
       "<Figure size 432x288 with 1 Axes>"
      ]
     },
     "metadata": {
      "needs_background": "light"
     },
     "output_type": "display_data"
    }
   ],
   "source": [
    "#create ROC curve\n",
    "from sklearn.metrics import roc_curve, auc, roc_auc_score\n",
    "fpr0, tpr0, thresholds = roc_curve(y_true=list(test['y']), y_score=list(pred))\n",
    "auc0 = roc_auc_score(y_true=list(test['y']), y_score=list(pred))\n",
    "\n",
    "plt.plot(fpr0,tpr0,label=\"AUC=\"+str(auc0))\n",
    "plt.ylabel('True Positive Rate')\n",
    "plt.xlabel('False Positive Rate')\n",
    "plt.legend(loc=4)\n",
    "plt.show()"
   ]
  },
  {
   "cell_type": "markdown",
   "metadata": {},
   "source": [
    "In ROC, we can summarize the model predictability based on the area under curve (AUC). A model with higher AUC has higher predictability. AUC in this case refers to the probability that randomly chosen non-subscribed will have high chances of classification as non-subscribers than randomly chosen subscribed clients."
   ]
  },
  {
   "cell_type": "code",
   "execution_count": 39,
   "metadata": {},
   "outputs": [
    {
     "data": {
      "image/png": "[encoded data removed]",
      "text/plain": [
       "<Figure size 432x360 with 1 Axes>"
      ]
     },
     "metadata": {
      "needs_background": "light"
     },
     "output_type": "display_data"
    }
   ],
   "source": [
    "from sklearn.metrics import roc_curve, auc, roc_auc_score\n",
    "import bioinfokit #this viz toolkit by Renesh Bedre can be found here: https://www.reneshbedre.com/blog/logistic-regression.html\n",
    "from bioinfokit.visuz import stat\n",
    "\n",
    "fpr0, tpr0, thresholds = roc_curve(y_true=list(test['y']), y_score=list(pred))\n",
    "auc0 = roc_auc_score(y_true=list(test['y']), y_score=list(pred))\n",
    "\n",
    "# plot ROC\n",
    "bioinfokit.visuz.stat.roc(fpr=fpr0, tpr=tpr0, auc=auc0, \n",
    "                          shade_auc=True, per_class=True, \n",
    "                          legendpos='upper center', legendanchor=(0.5, 1.08),legendcols=3,\n",
    "                          show = True)"
   ]
  },
  {
   "cell_type": "markdown",
   "metadata": {},
   "source": [
    "### Using sklearn"
   ]
  },
  {
   "cell_type": "code",
   "execution_count": 51,
   "metadata": {},
   "outputs": [],
   "source": [
    "from sklearn.datasets import load_iris\n",
    "from sklearn.linear_model import LogisticRegression\n",
    "\n",
    "# get independent variables\n",
    "X = train[['age','balance','duration']]\n",
    "\n",
    "\n",
    "# get response variables\n",
    "y = train[['y']]\n",
    "y = np.ravel(y) #This was used because of a warning:  DataConversionWarning: A column-vector y was passed when a 1d array was expected. Please change the shape of y to (n_samples, ), for example using ravel().\n",
    "\n",
    "model1 = LogisticRegression(solver='liblinear', random_state=0).fit(X,y)\n",
    "#model1 = model1.fit(X, y)"
   ]
  },
  {
   "cell_type": "code",
   "execution_count": 99,
   "metadata": {},
   "outputs": [],
   "source": [
    "# get the predicted values for the test dataset [0, 1]\n",
    "pred1 = model1.predict(test[['age','balance','duration']])\n"
   ]
  },
  {
   "cell_type": "code",
   "execution_count": 100,
   "metadata": {},
   "outputs": [
    {
     "data": {
      "text/plain": [
       "array([[789,  18],\n",
       "       [ 82,  16]], dtype=int64)"
      ]
     },
     "execution_count": 100,
     "metadata": {},
     "output_type": "execute_result"
    }
   ],
   "source": [
    "# get confusion matrix and accuracy of the prediction\n",
    "# note: there may be slightly different results if you use the statsmodel Logistic Regression method\n",
    "from sklearn.metrics import accuracy_score, confusion_matrix\n",
    "confusion_matrix(y_true=list(test['y']), y_pred=list((pred1)))\n"
   ]
  },
  {
   "cell_type": "code",
   "execution_count": 101,
   "metadata": {},
   "outputs": [
    {
     "data": {
      "text/plain": [
       "0.8891039823008849"
      ]
     },
     "execution_count": 101,
     "metadata": {},
     "output_type": "execute_result"
    }
   ],
   "source": [
    "model1.score(X, y)"
   ]
  },
  {
   "cell_type": "code",
   "execution_count": 102,
   "metadata": {},
   "outputs": [
    {
     "data": {
      "image/png": "[encoded data removed]",
      "text/plain": [
       "<Figure size 432x288 with 1 Axes>"
      ]
     },
     "metadata": {
      "needs_background": "light"
     },
     "output_type": "display_data"
    }
   ],
   "source": [
    "#create ROC curve\n",
    "from sklearn.metrics import roc_curve, auc, roc_auc_score\n",
    "fpr1, tpr1, thresholds = roc_curve(y_true=list(test['y']), y_score=list(pred1))\n",
    "auc1 = roc_auc_score(y_true=list(test['y']), y_score=list(pred))\n",
    "\n",
    "plt.plot(fpr1,tpr1,label=\"AUC=\"+str(auc1))\n",
    "plt.ylabel('True Positive Rate')\n",
    "plt.xlabel('False Positive Rate')\n",
    "plt.legend(loc=4)\n",
    "plt.show()"
   ]
  },
  {
   "cell_type": "code",
   "execution_count": 103,
   "metadata": {},
   "outputs": [
    {
     "data": {
      "image/png": "[encoded data removed]",
      "text/plain": [
       "<Figure size 432x360 with 1 Axes>"
      ]
     },
     "metadata": {
      "needs_background": "light"
     },
     "output_type": "display_data"
    }
   ],
   "source": [
    "from sklearn.metrics import roc_curve, auc, roc_auc_score\n",
    "import bioinfokit #this viz toolkit by Renesh Bedre can be found here: https://www.reneshbedre.com/blog/logistic-regression.html\n",
    "from bioinfokit.visuz import stat\n",
    "\n",
    "fpr1, tpr1, thresholds = roc_curve(y_true=list(test['y']), y_score=list(pred1))\n",
    "#auc1 = roc_auc_score(y_true=list(test['y']), y_score=list(pred1))\n",
    "auc1 = roc_auc_score(y_true=list(test['y']), y_score = pred1)\n",
    "\n",
    "# plot ROC\n",
    "bioinfokit.visuz.stat.roc(fpr=fpr1, tpr=tpr1, auc=auc1, \n",
    "                          shade_auc=True, per_class=True, \n",
    "                          legendpos='upper center', legendanchor=(0.5, 1.08),legendcols=3,\n",
    "                          show = True)"
   ]
  },
  {
   "cell_type": "code",
   "execution_count": 78,
   "metadata": {},
   "outputs": [
    {
     "data": {
      "image/png": "[encoded data removed]",
      "text/plain": [
       "<Figure size 432x288 with 1 Axes>"
      ]
     },
     "metadata": {
      "needs_background": "light"
     },
     "output_type": "display_data"
    }
   ],
   "source": [
    "import matplotlib.pyplot as plt\n",
    "\n",
    "# plot roc curves\n",
    "plt.plot(fpr0, tpr0, linestyle='--',color='red', label='Logistic Regression - Statsmodel')\n",
    "plt.plot(fpr1, tpr1, linestyle='--',color='green', label='Logistic Regression - Sklearn')\n",
    "# title\n",
    "plt.title('ROC curve')\n",
    "# x label\n",
    "plt.xlabel('False Positive Rate')\n",
    "# y label\n",
    "plt.ylabel('True Positive rate')\n",
    "\n",
    "plt.legend(loc='best')\n",
    "#plt.savefig('ROC',dpi=300)\n",
    "plt.show();"
   ]
  },
  {
   "cell_type": "code",
   "execution_count": null,
   "metadata": {},
   "outputs": [],
   "source": []
  }
 ],
 "metadata": {
  "kernelspec": {
   "display_name": "Python 3",
   "language": "python",
   "name": "python3"
  },
  "language_info": {
   "codemirror_mode": {
    "name": "ipython",
    "version": 3
   },
   "file_extension": ".py",
   "mimetype": "text/x-python",
   "name": "python",
   "nbconvert_exporter": "python",
   "pygments_lexer": "ipython3",
   "version": "3.7.9"
  }
 },
 "nbformat": 4,
 "nbformat_minor": 4
}
