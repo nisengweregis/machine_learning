{
 "cells": [
  {
   "cell_type": "code",
   "execution_count": 2,
   "metadata": {},
   "outputs": [],
   "source": [
    "import pandas as pd\n",
    "from sklearn.metrics import confusion_matrix\n",
    "from sklearn.model_selection import train_test_split\n",
    "from sklearn.neural_network import MLPClassifier\n",
    "# MLP = multi-layer perceptron."
   ]
  },
  {
   "cell_type": "code",
   "execution_count": 3,
   "metadata": {},
   "outputs": [],
   "source": [
    "# The target feature is whether or not the employee left.\n",
    "TARGET_FEATURE = 'left'  # Valid data values are 0 or 1.\n",
    "\n",
    "# We'll set aside 20% of the data to test the model.\n",
    "TEST_SET_SIZE = 0.2\n",
    "\n",
    "# We need to know which features are categorical.\n",
    "CATEGORICAL_FEATURES = ['sales', 'salary']"
   ]
  },
  {
   "cell_type": "code",
   "execution_count": 5,
   "metadata": {},
   "outputs": [
    {
     "name": "stdout",
     "output_type": "stream",
     "text": [
      "Sample of loaded data:\n",
      "       satisfaction_level  last_evaluation  number_project  \\\n",
      "2991                 0.90             0.77               3   \n",
      "4838                 0.46             0.38               6   \n",
      "4068                 0.60             0.49               2   \n",
      "14228                0.78             0.99               4   \n",
      "9054                 0.64             0.77               3   \n",
      "\n",
      "       average_montly_hours  time_spend_company  Work_accident  left  \\\n",
      "2991                    156                   3              0     0   \n",
      "4838                    165                   3              0     0   \n",
      "4068                    194                   4              0     0   \n",
      "14228                   255                   6              0     1   \n",
      "9054                    249                   2              1     0   \n",
      "\n",
      "       promotion_last_5years       sales  salary  \n",
      "2991                       0       sales  medium  \n",
      "4838                       0  accounting     low  \n",
      "4068                       0       sales     low  \n",
      "14228                      0       sales     low  \n",
      "9054                       0     support     low  \n",
      "\n",
      "Count per value (0 or 1) of the target feature:\n",
      "0    11428\n",
      "1     3571\n",
      "Name: left, dtype: int64\n",
      "\n"
     ]
    }
   ],
   "source": [
    "# This assumes the data is in the same directory as this script.\n",
    "# Here we load the data into a pandas DataFrame.\n",
    "raw_data = pd.read_csv('HR_comma_sep.csv')\n",
    "\n",
    "# It's helpful to take a quick look at the data.\n",
    "print('Sample of loaded data:')\n",
    "print(raw_data.sample(5))\n",
    "print('')\n",
    "print('Count per value (0 or 1) of the target feature:')\n",
    "print(raw_data[TARGET_FEATURE].value_counts())\n",
    "print('')"
   ]
  },
  {
   "cell_type": "code",
   "execution_count": 7,
   "metadata": {},
   "outputs": [
    {
     "name": "stdout",
     "output_type": "stream",
     "text": [
      "Sample of data to use:\n",
      "       satisfaction_level  last_evaluation  number_project  \\\n",
      "26                   0.82             0.87               4   \n",
      "4053                 0.92             0.67               4   \n",
      "4154                 0.98             0.66               3   \n",
      "7972                 0.53             0.70               4   \n",
      "12175                0.54             0.74               4   \n",
      "\n",
      "       average_montly_hours  time_spend_company  Work_accident  \\\n",
      "26                      239                   5              0   \n",
      "4053                    161                   4              1   \n",
      "4154                    150                   3              0   \n",
      "7972                    243                   3              0   \n",
      "12175                   164                   2              0   \n",
      "\n",
      "       promotion_last_5years  intercept  sales_RandD  sales_accounting  \\\n",
      "26                         0        1.0            0                 0   \n",
      "4053                       0        1.0            0                 0   \n",
      "4154                       0        1.0            0                 0   \n",
      "7972                       0        1.0            0                 0   \n",
      "12175                      0        1.0            0                 0   \n",
      "\n",
      "       sales_hr  sales_management  sales_marketing  sales_product_mng  \\\n",
      "26            0                 0                0                  0   \n",
      "4053          0                 0                1                  0   \n",
      "4154          1                 0                0                  0   \n",
      "7972          0                 0                0                  0   \n",
      "12175         0                 0                0                  0   \n",
      "\n",
      "       sales_sales  sales_support  sales_technical  salary_low  salary_medium  \n",
      "26               1              0                0           1              0  \n",
      "4053             0              0                0           1              0  \n",
      "4154             0              0                0           0              1  \n",
      "7972             0              0                1           1              0  \n",
      "12175            1              0                0           1              0  \n",
      "\n"
     ]
    }
   ],
   "source": [
    "# Step 4: Set up the data.\n",
    "# ~~~~~~~~~~~~~~~~~~~~~~~~\n",
    "\n",
    "# Separate the X and Y values.\n",
    "y_data = raw_data[TARGET_FEATURE]\n",
    "\n",
    "# Using drop() doesn't change raw_data, only the return value.\n",
    "# The axis=1 keyword tells pandas to drop a column (not a row).\n",
    "x_data = raw_data.drop(TARGET_FEATURE, axis=1)\n",
    "\n",
    "# To include an intercept, add a new column with a constant.\n",
    "x_data['intercept'] = 1.0\n",
    "\n",
    "# Turn categorical variables into dummy columns (0 or 1 values).\n",
    "# Do this to avoid assuming a meaningful order of categories.\n",
    "# Use drop_first to avoid multicollinearity among features.\n",
    "x_data = pd.get_dummies(\n",
    "    x_data,\n",
    "    columns=CATEGORICAL_FEATURES,\n",
    "    drop_first=True\n",
    ")\n",
    "\n",
    "# It's helpful to double check that the final data looks good.\n",
    "print('Sample of data to use:')\n",
    "print(x_data.sample(5))\n",
    "print('')\n",
    "\n",
    "# Split the data into training and test sets.\n",
    "x_train, x_test, y_train, y_test = train_test_split(\n",
    "    x_data,\n",
    "    y_data,\n",
    "    test_size=TEST_SET_SIZE\n",
    ")\n",
    "\n"
   ]
  },
  {
   "cell_type": "code",
   "execution_count": 9,
   "metadata": {},
   "outputs": [
    {
     "name": "stderr",
     "output_type": "stream",
     "text": [
      "C:\\Users\\vaca1\\Anaconda3\\lib\\site-packages\\sklearn\\neural_network\\_multilayer_perceptron.py:585: ConvergenceWarning: Stochastic Optimizer: Maximum iterations (200) reached and the optimization hasn't converged yet.\n",
      "  % self.max_iter, ConvergenceWarning)\n"
     ]
    }
   ],
   "source": [
    "\n",
    "# Step 5: Fit the model.\n",
    "# ~~~~~~~~~~~~~~~~~~~~~~\n",
    "\n",
    "model = MLPClassifier().fit(x_train, y_train)\n",
    "\n",
    "# Yes, that's it!\n"
   ]
  },
  {
   "cell_type": "code",
   "execution_count": null,
   "metadata": {},
   "outputs": [],
   "source": [
    "\n",
    "# Get the predicted target (y) values.\n",
    "y_predict = model.predict(x_test)\n",
    "\n",
    "# Get the confusion matrix and calculate the results.\n",
    "#   M[i][j] = #cases with known value i and predicted value j.\n",
    "M = confusion_matrix(y_test, y_predict)\n",
    "n_samples = len(y_test)\n",
    "print('Accuracy:  %.2f' % ((M[0][0] + M[1][1]) / n_samples))\n",
    "print('Precision: %.2f' % (M[1][1] / (M[0][1] + M[1][1])))\n",
    "print('Recall:    %.2f' % (M[1][1] / (M[1][0] + M[1][1])))"
   ]
  },
  {
   "cell_type": "code",
   "execution_count": null,
   "metadata": {},
   "outputs": [],
   "source": []
  },
  {
   "cell_type": "markdown",
   "metadata": {},
   "source": [
    "Useful resources:\n",
    "- https://pyimagesearch.com/2021/05/06/implementing-feedforward-neural-networks-with-keras-and-tensorflow/\n",
    "- https://hackernoon.com/building-a-feedforward-neural-network-from-scratch-in-python-d3526457156b\n",
    "- https://stackabuse.com/introduction-to-neural-networks-with-scikit-learn/"
   ]
  },
  {
   "cell_type": "code",
   "execution_count": null,
   "metadata": {},
   "outputs": [],
   "source": []
  }
 ],
 "metadata": {
  "kernelspec": {
   "display_name": "Python 3",
   "language": "python",
   "name": "python3"
  },
  "language_info": {
   "codemirror_mode": {
    "name": "ipython",
    "version": 3
   },
   "file_extension": ".py",
   "mimetype": "text/x-python",
   "name": "python",
   "nbconvert_exporter": "python",
   "pygments_lexer": "ipython3",
   "version": "3.7.9"
  }
 },
 "nbformat": 4,
 "nbformat_minor": 4
}
