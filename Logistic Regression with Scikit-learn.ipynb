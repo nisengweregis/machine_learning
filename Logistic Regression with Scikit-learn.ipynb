{
 "cells": [
  {
   "cell_type": "code",
   "execution_count": 6,
   "metadata": {},
   "outputs": [],
   "source": [
    "from sklearn.datasets import load_iris\n",
    "from sklearn.linear_model import LogisticRegression\n",
    "from sklearn.datasets import load_digits"
   ]
  },
  {
   "cell_type": "code",
   "execution_count": 3,
   "metadata": {},
   "outputs": [],
   "source": [
    "#X, y = load_iris(return_X_y=True)"
   ]
  },
  {
   "cell_type": "code",
   "execution_count": 7,
   "metadata": {},
   "outputs": [],
   "source": [
    "#clf = LogisticRegression(random_state=0).fit(X, y)"
   ]
  },
  {
   "cell_type": "code",
   "execution_count": 8,
   "metadata": {},
   "outputs": [],
   "source": [
    "digits = load_digits()"
   ]
  },
  {
   "cell_type": "code",
   "execution_count": 10,
   "metadata": {},
   "outputs": [
    {
     "name": "stdout",
     "output_type": "stream",
     "text": [
      "Image Data Shape (1797, 64)\n",
      "Label Data Shape (1797,)\n"
     ]
    }
   ],
   "source": [
    "# Print to show there are 1797 images (8 by 8 images for a dimensionality of 64)\n",
    "print(\"Image Data Shape\" , digits.data.shape)\n",
    "# Print to show there are 1797 labels (integers from 0–9)\n",
    "print(\"Label Data Shape\", digits.target.shape)"
   ]
  },
  {
   "cell_type": "code",
   "execution_count": 36,
   "metadata": {},
   "outputs": [
    {
     "data": {
      "image/png": "[encoded data removed]",
      "text/plain": [
       "<Figure size 1440x288 with 10 Axes>"
      ]
     },
     "metadata": {
      "needs_background": "light"
     },
     "output_type": "display_data"
    }
   ],
   "source": [
    "import numpy as np \n",
    "import matplotlib.pyplot as plt\n",
    "plt.figure(figsize=(20,4))\n",
    "for index, (image, label) in enumerate(zip(digits.data[0:10], digits.target[0:10])):\n",
    " plt.subplot(1, 10, index + 1)\n",
    " plt.imshow(np.reshape(image, (8,8)), cmap=plt.cm.viridis)\n",
    " plt.title('Training: %i\\n' % label, fontsize = 20)"
   ]
  },
  {
   "cell_type": "code",
   "execution_count": 12,
   "metadata": {},
   "outputs": [],
   "source": [
    "#Splitting Data into Training and Test Sets (Digits Dataset)\n",
    "\n",
    "from sklearn.model_selection import train_test_split\n",
    "x_train, x_test, y_train, y_test = train_test_split(digits.data, digits.target, test_size=0.25, random_state=0)"
   ]
  },
  {
   "cell_type": "code",
   "execution_count": 78,
   "metadata": {},
   "outputs": [],
   "source": [
    "# all parameters not specified are set to their defaults\n",
    "logisticRegr = LogisticRegression(solver='liblinear')"
   ]
  },
  {
   "cell_type": "code",
   "execution_count": 79,
   "metadata": {},
   "outputs": [
    {
     "data": {
      "text/plain": [
       "LogisticRegression(solver='liblinear')"
      ]
     },
     "execution_count": 79,
     "metadata": {},
     "output_type": "execute_result"
    }
   ],
   "source": [
    "logisticRegr.fit(x_train, y_train)"
   ]
  },
  {
   "cell_type": "code",
   "execution_count": 63,
   "metadata": {},
   "outputs": [
    {
     "data": {
      "text/plain": [
       "array([0, 1, 2, 3, 4, 5, 6, 7, 8, 9])"
      ]
     },
     "execution_count": 63,
     "metadata": {},
     "output_type": "execute_result"
    }
   ],
   "source": [
    "logisticRegr.classes_"
   ]
  },
  {
   "cell_type": "code",
   "execution_count": 64,
   "metadata": {},
   "outputs": [
    {
     "data": {
      "text/plain": [
       "array([2])"
      ]
     },
     "execution_count": 64,
     "metadata": {},
     "output_type": "execute_result"
    }
   ],
   "source": [
    "# Returns a NumPy Array\n",
    "# Predict for One Observation (image)\n",
    "logisticRegr.predict(x_test[0].reshape(1,-1))"
   ]
  },
  {
   "cell_type": "code",
   "execution_count": 71,
   "metadata": {},
   "outputs": [
    {
     "data": {
      "text/plain": [
       "array([2, 8, 2, 6, 6, 7, 1, 9, 8, 5])"
      ]
     },
     "execution_count": 71,
     "metadata": {},
     "output_type": "execute_result"
    }
   ],
   "source": [
    "logisticRegr.predict(x_test[0:10])"
   ]
  },
  {
   "cell_type": "code",
   "execution_count": 80,
   "metadata": {},
   "outputs": [
    {
     "data": {
      "text/plain": [
       "array([[2.04008917e-09, 8.59677414e-11, 9.99996463e-01, 1.99698060e-15,\n",
       "        2.98696569e-11, 3.32611543e-09, 6.19741306e-21, 8.78183640e-09,\n",
       "        3.52250551e-06, 1.11538214e-11],\n",
       "       [3.27971513e-10, 1.21309480e-06, 7.23121710e-06, 4.26109626e-19,\n",
       "        3.04557179e-01, 7.34824796e-07, 1.90331620e-07, 5.02088111e-11,\n",
       "        6.95433449e-01, 1.83481907e-09],\n",
       "       [2.57674294e-16, 3.67950331e-10, 9.99997684e-01, 5.63220887e-13,\n",
       "        1.50396918e-12, 5.50788065e-09, 1.57148836e-18, 1.40550377e-10,\n",
       "        2.30960755e-06, 2.29108899e-12],\n",
       "       [8.24323126e-08, 4.65724532e-09, 5.99274197e-10, 3.61335202e-14,\n",
       "        2.52474844e-02, 5.84531378e-06, 7.57628507e-01, 1.32650658e-09,\n",
       "        2.17118074e-01, 1.83652787e-24],\n",
       "       [6.00360860e-05, 2.62430808e-09, 2.40921100e-08, 7.08520927e-12,\n",
       "        8.00780482e-07, 2.56520772e-07, 9.77845870e-01, 1.60431608e-08,\n",
       "        2.20929934e-02, 1.62191435e-15],\n",
       "       [1.49022928e-09, 5.83050884e-05, 5.52269818e-06, 2.12439169e-10,\n",
       "        5.77548811e-06, 1.45196080e-10, 3.08972046e-13, 9.99928570e-01,\n",
       "        1.82552031e-07, 1.64211012e-06],\n",
       "       [9.89315393e-15, 9.98382756e-01, 7.00570121e-05, 1.48565190e-10,\n",
       "        2.74707659e-06, 7.72477423e-15, 6.85238642e-05, 8.45770715e-13,\n",
       "        1.47591554e-03, 1.38383689e-15],\n",
       "       [9.14681356e-06, 4.12287417e-09, 3.75113408e-06, 3.37220326e-07,\n",
       "        4.34690483e-12, 1.18051618e-11, 2.81335995e-15, 3.90258953e-12,\n",
       "        6.79086301e-04, 9.99307674e-01],\n",
       "       [1.27055153e-10, 1.83445583e-11, 3.05243016e-09, 2.12946208e-02,\n",
       "        3.02502382e-11, 9.96354592e-04, 1.19871124e-06, 4.47737555e-10,\n",
       "        9.77707818e-01, 4.15414771e-09],\n",
       "       [2.56498177e-05, 3.12973997e-10, 3.18593069e-02, 1.29850324e-13,\n",
       "        9.19198990e-09, 9.44099115e-01, 4.61232492e-10, 2.33603904e-02,\n",
       "        6.55386122e-04, 1.42104907e-07]])"
      ]
     },
     "execution_count": 80,
     "metadata": {},
     "output_type": "execute_result"
    }
   ],
   "source": [
    "logisticRegr.predict_proba(x_test[0:10])"
   ]
  },
  {
   "cell_type": "code",
   "execution_count": 67,
   "metadata": {},
   "outputs": [],
   "source": [
    "predictions = logisticRegr.predict(x_test)"
   ]
  },
  {
   "cell_type": "code",
   "execution_count": 81,
   "metadata": {},
   "outputs": [
    {
     "name": "stdout",
     "output_type": "stream",
     "text": [
      "0.9533333333333334\n"
     ]
    }
   ],
   "source": [
    "# Use score method to get accuracy of model\n",
    "score = logisticRegr.score(x_test, y_test)\n",
    "print(score)"
   ]
  },
  {
   "cell_type": "code",
   "execution_count": 19,
   "metadata": {},
   "outputs": [],
   "source": [
    "import matplotlib.pyplot as plt\n",
    "import seaborn as sns\n",
    "from sklearn import metrics"
   ]
  },
  {
   "cell_type": "code",
   "execution_count": 83,
   "metadata": {},
   "outputs": [
    {
     "name": "stdout",
     "output_type": "stream",
     "text": [
      "[[37  0  0  0  0  0  0  0  0  0]\n",
      " [ 0 38  0  0  0  0  1  0  4  0]\n",
      " [ 0  1 40  3  0  0  0  0  0  0]\n",
      " [ 0  0  1 43  0  0  0  0  0  1]\n",
      " [ 0  0  0  1 36  0  0  0  0  1]\n",
      " [ 0  2  0  0  0 46  0  0  0  0]\n",
      " [ 0  1  0  0  0  0 51  0  0  0]\n",
      " [ 0  1  0  1  1  0  0 45  0  0]\n",
      " [ 0  3  1  0  0  0  0  0 42  2]\n",
      " [ 0  0  0  1  0  1  0  0  3 42]]\n"
     ]
    }
   ],
   "source": [
    "cm = metrics.confusion_matrix(y_test, predictions)\n",
    "print(cm)"
   ]
  },
  {
   "cell_type": "code",
   "execution_count": 82,
   "metadata": {},
   "outputs": [
    {
     "data": {
      "image/png": "[encoded data removed]",
      "text/plain": [
       "<Figure size 648x648 with 2 Axes>"
      ]
     },
     "metadata": {
      "needs_background": "light"
     },
     "output_type": "display_data"
    }
   ],
   "source": [
    "plt.figure(figsize=(9,9))\n",
    "sns.heatmap(cm, annot=True, fmt=\".3f\", linewidths=.5, square = True, cmap = 'Blues_r');\n",
    "plt.ylabel('Actual label');\n",
    "plt.xlabel('Predicted label');\n",
    "all_sample_title = 'Accuracy Score: {0}'.format(score)\n",
    "plt.title(all_sample_title, size = 15);"
   ]
  },
  {
   "cell_type": "code",
   "execution_count": null,
   "metadata": {},
   "outputs": [],
   "source": []
  }
 ],
 "metadata": {
  "kernelspec": {
   "display_name": "Python 3",
   "language": "python",
   "name": "python3"
  },
  "language_info": {
   "codemirror_mode": {
    "name": "ipython",
    "version": 3
   },
   "file_extension": ".py",
   "mimetype": "text/x-python",
   "name": "python",
   "nbconvert_exporter": "python",
   "pygments_lexer": "ipython3",
   "version": "3.7.9"
  }
 },
 "nbformat": 4,
 "nbformat_minor": 4
}
