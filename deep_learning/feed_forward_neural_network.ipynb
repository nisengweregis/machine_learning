{
 "cells": [
  {
   "cell_type": "code",
   "execution_count": 1,
   "metadata": {},
   "outputs": [],
   "source": [
    "import pandas as pd\n",
    "from sklearn.metrics import confusion_matrix\n",
    "from sklearn.model_selection import train_test_split\n",
    "from sklearn.neural_network import MLPClassifier\n",
    "# MLP = multi-layer perceptron."
   ]
  },
  {
   "cell_type": "code",
   "execution_count": 2,
   "metadata": {},
   "outputs": [],
   "source": [
    "# The target feature is whether or not the employee left.\n",
    "TARGET_FEATURE = 'left'  # Valid data values are 0 or 1.\n",
    "\n",
    "# We'll set aside 20% of the data to test the model.\n",
    "TEST_SET_SIZE = 0.2\n",
    "\n",
    "# We need to know which features are categorical.\n",
    "CATEGORICAL_FEATURES = ['sales', 'salary']"
   ]
  },
  {
   "cell_type": "code",
   "execution_count": 5,
   "metadata": {},
   "outputs": [],
   "source": [
    "# This assumes the data is in the same directory as this script.\n",
    "# Here we load the data into a pandas DataFrame.\n",
    "raw_data = pd.read_csv('HR_comma_sep.csv')\n",
    "\n",
    "# It's helpful to take a quick look at the data.\n",
    "#print('Sample of loaded data:')\n",
    "#print(raw_data.sample(5))\n",
    "#print('')\n",
    "#print('Count per value (0 or 1) of the target feature:')\n",
    "#print(raw_data[TARGET_FEATURE].value_counts())\n",
    "#print('')"
   ]
  },
  {
   "cell_type": "code",
   "execution_count": 6,
   "metadata": {},
   "outputs": [],
   "source": [
    "# Step 4: Set up the data.\n",
    "# ~~~~~~~~~~~~~~~~~~~~~~~~\n",
    "\n",
    "# Separate the X and Y values.\n",
    "y_data = raw_data[TARGET_FEATURE]\n",
    "\n",
    "# Using drop() doesn't change raw_data, only the return value.\n",
    "# The axis=1 keyword tells pandas to drop a column (not a row).\n",
    "x_data = raw_data.drop(TARGET_FEATURE, axis=1)\n",
    "\n",
    "# To include an intercept, add a new column with a constant.\n",
    "x_data['intercept'] = 1.0\n",
    "\n",
    "# Turn categorical variables into dummy columns (0 or 1 values).\n",
    "# Do this to avoid assuming a meaningful order of categories.\n",
    "# Use drop_first to avoid multicollinearity among features.\n",
    "x_data = pd.get_dummies(\n",
    "    x_data,\n",
    "    columns=CATEGORICAL_FEATURES,\n",
    "    drop_first=True\n",
    ")\n",
    "\n",
    "# It's helpful to double check that the final data looks good.\n",
    "# print('Sample of data to use:')\n",
    "# print(x_data.sample(5))\n",
    "# print('')\n",
    "\n",
    "# Split the data into training and test sets.\n",
    "x_train, x_test, y_train, y_test = train_test_split(\n",
    "    x_data,\n",
    "    y_data,\n",
    "    test_size=TEST_SET_SIZE\n",
    ")\n",
    "\n"
   ]
  },
  {
   "cell_type": "code",
   "execution_count": 7,
   "metadata": {},
   "outputs": [],
   "source": [
    "# Step 5: Fit the model.\n",
    "# ~~~~~~~~~~~~~~~~~~~~~~\n",
    "\n",
    "model = MLPClassifier().fit(x_train, y_train)\n",
    "\n",
    "# Yes, that's it!"
   ]
  },
  {
   "cell_type": "code",
   "execution_count": 8,
   "metadata": {},
   "outputs": [
    {
     "name": "stdout",
     "output_type": "stream",
     "text": [
      "Accuracy:  0.94\n",
      "Precision: 0.87\n",
      "Recall:    0.90\n"
     ]
    }
   ],
   "source": [
    "# Get the predicted target (y) values.\n",
    "y_predict = model.predict(x_test)\n",
    "\n",
    "# Get the confusion matrix and calculate the results.\n",
    "#   M[i][j] = #cases with known value i and predicted value j.\n",
    "M = confusion_matrix(y_test, y_predict)\n",
    "n_samples = len(y_test)\n",
    "print('Accuracy:  %.2f' % ((M[0][0] + M[1][1]) / n_samples))\n",
    "print('Precision: %.2f' % (M[1][1] / (M[0][1] + M[1][1])))\n",
    "print('Recall:    %.2f' % (M[1][1] / (M[1][0] + M[1][1])))"
   ]
  },
  {
   "cell_type": "markdown",
   "metadata": {},
   "source": [
    "Useful resources:\n",
    "- https://pyimagesearch.com/2021/05/06/implementing-feedforward-neural-networks-with-keras-and-tensorflow/\n",
    "- https://hackernoon.com/building-a-feedforward-neural-network-from-scratch-in-python-d3526457156b\n",
    "- https://stackabuse.com/introduction-to-neural-networks-with-scikit-learn/"
   ]
  },
  {
   "cell_type": "code",
   "execution_count": null,
   "metadata": {},
   "outputs": [],
   "source": []
  }
 ],
 "metadata": {
  "kernelspec": {
   "display_name": "Python 3",
   "language": "python",
   "name": "python3"
  },
  "language_info": {
   "codemirror_mode": {
    "name": "ipython",
    "version": 3
   },
   "file_extension": ".py",
   "mimetype": "text/x-python",
   "name": "python",
   "nbconvert_exporter": "python",
   "pygments_lexer": "ipython3",
   "version": "3.7.9"
  }
 },
 "nbformat": 4,
 "nbformat_minor": 4
}
